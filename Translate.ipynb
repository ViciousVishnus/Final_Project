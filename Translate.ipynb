{
 "cells": [
  {
   "cell_type": "code",
   "execution_count": 153,
   "metadata": {},
   "outputs": [],
   "source": [
    "####Ryan Blow\n",
    "####Utilizes the googletrans api\n",
    "def Translator(audio_string, final_language):\n",
    "    from googletrans import Translator, LANGUAGES\n",
    "    translator = Translator()\n",
    "    \"\"\"\n",
    "    Takes in audio and translates it into a new language\n",
    "    \n",
    "    Parameters:\n",
    "    \n",
    "        audio: The string which you wish to translate\n",
    "        \n",
    "        final_language: The language which you wish to translate to \n",
    "        \n",
    "    Returns: \n",
    "    \n",
    "        Translated_string: Gives back the translated string for alexa to speak back\n",
    "    \"\"\"\n",
    "    #figures out what the origin language is \n",
    "    language_initial= translator.detect(audio_string)\n",
    "    #figure out the output language\n",
    "    Language_codes = dict(map(reversed, LANGUAGES.items()))\n",
    "    final_language=final_language.lower()\n",
    "    translated_language=Language_codes[final_language]\n",
    "    #translate the thing\n",
    "    final_language=translator.translate(audio_string, dest=translated_language, src= language_initial.lang)\n",
    "    translation=[]\n",
    "    audio_string_list = audio_string.split()\n",
    "    for i in range(len(audio_string_list)):\n",
    "        final_translate = translator.translate(audio_string_list[i], dest=translated_language, src=language_initial.lang)\n",
    "        if final_translate.pronunciation is None:\n",
    "            translation.append(final_translate.text)\n",
    "        else:\n",
    "            translation.append(final_translate.pronunciation)\n",
    "    output = \" \".join(translation)\n",
    "    return output"
   ]
  },
  {
   "cell_type": "code",
   "execution_count": 154,
   "metadata": {},
   "outputs": [],
   "source": [
    "from flask_ask import session, Ask, statement, question, request"
   ]
  },
  {
   "cell_type": "code",
   "execution_count": 157,
   "metadata": {},
   "outputs": [
    {
     "data": {
      "text/plain": [
       "'Zdravstvuyte eto является russkiy'"
      ]
     },
     "execution_count": 157,
     "metadata": {},
     "output_type": "execute_result"
    }
   ],
   "source": [
    "Translator(\"hello this is russian\", \"russian\")"
   ]
  },
  {
   "cell_type": "code",
   "execution_count": null,
   "metadata": {},
   "outputs": [],
   "source": []
  }
 ],
 "metadata": {
  "kernelspec": {
   "display_name": "Python 3",
   "language": "python",
   "name": "python3"
  },
  "language_info": {
   "codemirror_mode": {
    "name": "ipython",
    "version": 3
   },
   "file_extension": ".py",
   "mimetype": "text/x-python",
   "name": "python",
   "nbconvert_exporter": "python",
   "pygments_lexer": "ipython3",
   "version": "3.6.5"
  }
 },
 "nbformat": 4,
 "nbformat_minor": 2
}
